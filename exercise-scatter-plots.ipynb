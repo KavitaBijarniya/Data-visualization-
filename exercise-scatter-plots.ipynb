{
 "cells": [
  {
   "cell_type": "markdown",
   "id": "a8554da0",
   "metadata": {
    "papermill": {
     "duration": 0.011704,
     "end_time": "2023-04-30T03:28:51.925979",
     "exception": false,
     "start_time": "2023-04-30T03:28:51.914275",
     "status": "completed"
    },
    "tags": []
   },
   "source": [
    "**This notebook is an exercise in the [Data Visualization](https://www.kaggle.com/learn/data-visualization) course.  You can reference the tutorial at [this link](https://www.kaggle.com/alexisbcook/scatter-plots).**\n",
    "\n",
    "---\n"
   ]
  },
  {
   "cell_type": "markdown",
   "id": "5291e397",
   "metadata": {
    "papermill": {
     "duration": 0.0091,
     "end_time": "2023-04-30T03:28:51.945719",
     "exception": false,
     "start_time": "2023-04-30T03:28:51.936619",
     "status": "completed"
    },
    "tags": []
   },
   "source": [
    "In this exercise, you will use your new knowledge to propose a solution to a real-world scenario.  To succeed, you will need to import data into Python, answer questions using the data, and generate **scatter plots** to understand patterns in the data.\n",
    "\n",
    "## Scenario\n",
    "\n",
    "You work for a major candy producer, and your goal is to write a report that your company can use to guide the design of its next product.  Soon after starting your research, you stumble across this [very interesting dataset](https://fivethirtyeight.com/features/the-ultimate-halloween-candy-power-ranking/) containing results from a fun survey to crowdsource favorite candies.\n",
    "\n",
    "## Setup\n",
    "\n",
    "Run the next cell to import and configure the Python libraries that you need to complete the exercise."
   ]
  },
  {
   "cell_type": "code",
   "execution_count": 1,
   "id": "6d546387",
   "metadata": {
    "execution": {
     "iopub.execute_input": "2023-04-30T03:28:51.966852Z",
     "iopub.status.busy": "2023-04-30T03:28:51.966396Z",
     "iopub.status.idle": "2023-04-30T03:28:53.393827Z",
     "shell.execute_reply": "2023-04-30T03:28:53.392697Z"
    },
    "papermill": {
     "duration": 1.442272,
     "end_time": "2023-04-30T03:28:53.397302",
     "exception": false,
     "start_time": "2023-04-30T03:28:51.955030",
     "status": "completed"
    },
    "tags": []
   },
   "outputs": [
    {
     "name": "stdout",
     "output_type": "stream",
     "text": [
      "Setup Complete\n"
     ]
    }
   ],
   "source": [
    "import pandas as pd\n",
    "pd.plotting.register_matplotlib_converters()\n",
    "import matplotlib.pyplot as plt\n",
    "%matplotlib inline\n",
    "import seaborn as sns\n",
    "print(\"Setup Complete\")"
   ]
  },
  {
   "cell_type": "markdown",
   "id": "78b80419",
   "metadata": {
    "papermill": {
     "duration": 0.010156,
     "end_time": "2023-04-30T03:28:53.416964",
     "exception": false,
     "start_time": "2023-04-30T03:28:53.406808",
     "status": "completed"
    },
    "tags": []
   },
   "source": [
    "The questions below will give you feedback on your work. Run the following cell to set up our feedback system."
   ]
  },
  {
   "cell_type": "code",
   "execution_count": 2,
   "id": "769a8926",
   "metadata": {
    "execution": {
     "iopub.execute_input": "2023-04-30T03:28:53.439754Z",
     "iopub.status.busy": "2023-04-30T03:28:53.439059Z",
     "iopub.status.idle": "2023-04-30T03:28:53.525565Z",
     "shell.execute_reply": "2023-04-30T03:28:53.523675Z"
    },
    "papermill": {
     "duration": 0.102575,
     "end_time": "2023-04-30T03:28:53.529186",
     "exception": false,
     "start_time": "2023-04-30T03:28:53.426611",
     "status": "completed"
    },
    "tags": []
   },
   "outputs": [
    {
     "name": "stdout",
     "output_type": "stream",
     "text": [
      "Setup Complete\n"
     ]
    }
   ],
   "source": [
    "# Set up code checking\n",
    "import os\n",
    "if not os.path.exists(\"../input/candy.csv\"):\n",
    "    os.symlink(\"../input/data-for-datavis/candy.csv\", \"../input/candy.csv\") \n",
    "from learntools.core import binder\n",
    "binder.bind(globals())\n",
    "from learntools.data_viz_to_coder.ex4 import *\n",
    "print(\"Setup Complete\")"
   ]
  },
  {
   "cell_type": "markdown",
   "id": "fcce2e44",
   "metadata": {
    "papermill": {
     "duration": 0.009878,
     "end_time": "2023-04-30T03:28:53.549835",
     "exception": false,
     "start_time": "2023-04-30T03:28:53.539957",
     "status": "completed"
    },
    "tags": []
   },
   "source": [
    "## Step 1: Load the Data\n",
    "\n",
    "Read the candy data file into `candy_data`.  Use the `\"id\"` column to label the rows."
   ]
  },
  {
   "cell_type": "code",
   "execution_count": 3,
   "id": "5e29f73a",
   "metadata": {
    "execution": {
     "iopub.execute_input": "2023-04-30T03:28:53.571781Z",
     "iopub.status.busy": "2023-04-30T03:28:53.571343Z",
     "iopub.status.idle": "2023-04-30T03:28:53.587808Z",
     "shell.execute_reply": "2023-04-30T03:28:53.586093Z"
    },
    "papermill": {
     "duration": 0.031164,
     "end_time": "2023-04-30T03:28:53.590896",
     "exception": false,
     "start_time": "2023-04-30T03:28:53.559732",
     "status": "completed"
    },
    "tags": []
   },
   "outputs": [
    {
     "data": {
      "application/javascript": [
       "parent.postMessage({\"jupyterEvent\": \"custom.exercise_interaction\", \"data\": {\"outcomeType\": 1, \"valueTowardsCompletion\": 0.3333333333333333, \"interactionType\": 1, \"questionType\": 1, \"questionId\": \"1_LoadData\", \"learnToolsVersion\": \"0.3.4\", \"failureMessage\": \"\", \"exceptionClass\": \"\", \"trace\": \"\"}}, \"*\")"
      ],
      "text/plain": [
       "<IPython.core.display.Javascript object>"
      ]
     },
     "metadata": {},
     "output_type": "display_data"
    },
    {
     "data": {
      "text/markdown": [
       "<span style=\"color:#33cc33\">Correct</span>"
      ],
      "text/plain": [
       "Correct"
      ]
     },
     "metadata": {},
     "output_type": "display_data"
    }
   ],
   "source": [
    "# Path of the file to read\n",
    "candy_filepath = \"../input/candy.csv\"\n",
    "\n",
    "# Fill in the line below to read the file into a variable candy_data\n",
    "candy_data = pd.read_csv(candy_filepath,index_col=\"id\")\n",
    "\n",
    "# Run the line below with no changes to check that you've loaded the data correctly\n",
    "step_1.check()"
   ]
  },
  {
   "cell_type": "code",
   "execution_count": 4,
   "id": "f1aa0faa",
   "metadata": {
    "execution": {
     "iopub.execute_input": "2023-04-30T03:28:53.615680Z",
     "iopub.status.busy": "2023-04-30T03:28:53.614482Z",
     "iopub.status.idle": "2023-04-30T03:28:53.621611Z",
     "shell.execute_reply": "2023-04-30T03:28:53.620403Z"
    },
    "papermill": {
     "duration": 0.022453,
     "end_time": "2023-04-30T03:28:53.624909",
     "exception": false,
     "start_time": "2023-04-30T03:28:53.602456",
     "status": "completed"
    },
    "tags": []
   },
   "outputs": [],
   "source": [
    "# Lines below will give you a hint or solution code\n",
    "#step_1.hint()\n",
    "#step_1.solution()"
   ]
  },
  {
   "cell_type": "markdown",
   "id": "d745153d",
   "metadata": {
    "papermill": {
     "duration": 0.012543,
     "end_time": "2023-04-30T03:28:53.649734",
     "exception": false,
     "start_time": "2023-04-30T03:28:53.637191",
     "status": "completed"
    },
    "tags": []
   },
   "source": [
    "## Step 2: Review the data\n",
    "\n",
    "Use a Python command to print the first five rows of the data."
   ]
  },
  {
   "cell_type": "code",
   "execution_count": 5,
   "id": "9dbad471",
   "metadata": {
    "execution": {
     "iopub.execute_input": "2023-04-30T03:28:53.673198Z",
     "iopub.status.busy": "2023-04-30T03:28:53.671972Z",
     "iopub.status.idle": "2023-04-30T03:28:53.706573Z",
     "shell.execute_reply": "2023-04-30T03:28:53.705007Z"
    },
    "papermill": {
     "duration": 0.049868,
     "end_time": "2023-04-30T03:28:53.709700",
     "exception": false,
     "start_time": "2023-04-30T03:28:53.659832",
     "status": "completed"
    },
    "tags": []
   },
   "outputs": [
    {
     "data": {
      "text/html": [
       "<div>\n",
       "<style scoped>\n",
       "    .dataframe tbody tr th:only-of-type {\n",
       "        vertical-align: middle;\n",
       "    }\n",
       "\n",
       "    .dataframe tbody tr th {\n",
       "        vertical-align: top;\n",
       "    }\n",
       "\n",
       "    .dataframe thead th {\n",
       "        text-align: right;\n",
       "    }\n",
       "</style>\n",
       "<table border=\"1\" class=\"dataframe\">\n",
       "  <thead>\n",
       "    <tr style=\"text-align: right;\">\n",
       "      <th></th>\n",
       "      <th>competitorname</th>\n",
       "      <th>chocolate</th>\n",
       "      <th>fruity</th>\n",
       "      <th>caramel</th>\n",
       "      <th>peanutyalmondy</th>\n",
       "      <th>nougat</th>\n",
       "      <th>crispedricewafer</th>\n",
       "      <th>hard</th>\n",
       "      <th>bar</th>\n",
       "      <th>pluribus</th>\n",
       "      <th>sugarpercent</th>\n",
       "      <th>pricepercent</th>\n",
       "      <th>winpercent</th>\n",
       "    </tr>\n",
       "    <tr>\n",
       "      <th>id</th>\n",
       "      <th></th>\n",
       "      <th></th>\n",
       "      <th></th>\n",
       "      <th></th>\n",
       "      <th></th>\n",
       "      <th></th>\n",
       "      <th></th>\n",
       "      <th></th>\n",
       "      <th></th>\n",
       "      <th></th>\n",
       "      <th></th>\n",
       "      <th></th>\n",
       "      <th></th>\n",
       "    </tr>\n",
       "  </thead>\n",
       "  <tbody>\n",
       "    <tr>\n",
       "      <th>0</th>\n",
       "      <td>100 Grand</td>\n",
       "      <td>Yes</td>\n",
       "      <td>No</td>\n",
       "      <td>Yes</td>\n",
       "      <td>No</td>\n",
       "      <td>No</td>\n",
       "      <td>Yes</td>\n",
       "      <td>No</td>\n",
       "      <td>Yes</td>\n",
       "      <td>No</td>\n",
       "      <td>0.732</td>\n",
       "      <td>0.860</td>\n",
       "      <td>66.971725</td>\n",
       "    </tr>\n",
       "    <tr>\n",
       "      <th>1</th>\n",
       "      <td>3 Musketeers</td>\n",
       "      <td>Yes</td>\n",
       "      <td>No</td>\n",
       "      <td>No</td>\n",
       "      <td>No</td>\n",
       "      <td>Yes</td>\n",
       "      <td>No</td>\n",
       "      <td>No</td>\n",
       "      <td>Yes</td>\n",
       "      <td>No</td>\n",
       "      <td>0.604</td>\n",
       "      <td>0.511</td>\n",
       "      <td>67.602936</td>\n",
       "    </tr>\n",
       "    <tr>\n",
       "      <th>2</th>\n",
       "      <td>Air Heads</td>\n",
       "      <td>No</td>\n",
       "      <td>Yes</td>\n",
       "      <td>No</td>\n",
       "      <td>No</td>\n",
       "      <td>No</td>\n",
       "      <td>No</td>\n",
       "      <td>No</td>\n",
       "      <td>No</td>\n",
       "      <td>No</td>\n",
       "      <td>0.906</td>\n",
       "      <td>0.511</td>\n",
       "      <td>52.341465</td>\n",
       "    </tr>\n",
       "    <tr>\n",
       "      <th>3</th>\n",
       "      <td>Almond Joy</td>\n",
       "      <td>Yes</td>\n",
       "      <td>No</td>\n",
       "      <td>No</td>\n",
       "      <td>Yes</td>\n",
       "      <td>No</td>\n",
       "      <td>No</td>\n",
       "      <td>No</td>\n",
       "      <td>Yes</td>\n",
       "      <td>No</td>\n",
       "      <td>0.465</td>\n",
       "      <td>0.767</td>\n",
       "      <td>50.347546</td>\n",
       "    </tr>\n",
       "    <tr>\n",
       "      <th>4</th>\n",
       "      <td>Baby Ruth</td>\n",
       "      <td>Yes</td>\n",
       "      <td>No</td>\n",
       "      <td>Yes</td>\n",
       "      <td>Yes</td>\n",
       "      <td>Yes</td>\n",
       "      <td>No</td>\n",
       "      <td>No</td>\n",
       "      <td>Yes</td>\n",
       "      <td>No</td>\n",
       "      <td>0.604</td>\n",
       "      <td>0.767</td>\n",
       "      <td>56.914547</td>\n",
       "    </tr>\n",
       "  </tbody>\n",
       "</table>\n",
       "</div>"
      ],
      "text/plain": [
       "   competitorname chocolate fruity caramel peanutyalmondy nougat  \\\n",
       "id                                                                 \n",
       "0       100 Grand       Yes     No     Yes             No     No   \n",
       "1    3 Musketeers       Yes     No      No             No    Yes   \n",
       "2       Air Heads        No    Yes      No             No     No   \n",
       "3      Almond Joy       Yes     No      No            Yes     No   \n",
       "4       Baby Ruth       Yes     No     Yes            Yes    Yes   \n",
       "\n",
       "   crispedricewafer hard  bar pluribus  sugarpercent  pricepercent  winpercent  \n",
       "id                                                                              \n",
       "0               Yes   No  Yes       No         0.732         0.860   66.971725  \n",
       "1                No   No  Yes       No         0.604         0.511   67.602936  \n",
       "2                No   No   No       No         0.906         0.511   52.341465  \n",
       "3                No   No  Yes       No         0.465         0.767   50.347546  \n",
       "4                No   No  Yes       No         0.604         0.767   56.914547  "
      ]
     },
     "execution_count": 5,
     "metadata": {},
     "output_type": "execute_result"
    }
   ],
   "source": [
    "# Print the first five rows of the data\n",
    "candy_data.head()"
   ]
  },
  {
   "cell_type": "markdown",
   "id": "b879c65a",
   "metadata": {
    "papermill": {
     "duration": 0.010076,
     "end_time": "2023-04-30T03:28:53.730715",
     "exception": false,
     "start_time": "2023-04-30T03:28:53.720639",
     "status": "completed"
    },
    "tags": []
   },
   "source": [
    "The dataset contains 83 rows, where each corresponds to a different candy bar.  There are 13 columns:\n",
    "- `'competitorname'` contains the name of the candy bar. \n",
    "- the next **9** columns (from `'chocolate'` to `'pluribus'`) describe the candy.  For instance, rows with chocolate candies have `\"Yes\"` in the `'chocolate'` column (and candies without chocolate have `\"No\"` in the same column).\n",
    "- `'sugarpercent'` provides some indication of the amount of sugar, where higher values signify higher sugar content.\n",
    "- `'pricepercent'` shows the price per unit, relative to the other candies in the dataset.\n",
    "- `'winpercent'` is calculated from the survey results; higher values indicate that the candy was more popular with survey respondents.\n",
    "\n",
    "Use the first five rows of the data to answer the questions below."
   ]
  },
  {
   "cell_type": "code",
   "execution_count": 6,
   "id": "97f98fe8",
   "metadata": {
    "execution": {
     "iopub.execute_input": "2023-04-30T03:28:53.754302Z",
     "iopub.status.busy": "2023-04-30T03:28:53.753476Z",
     "iopub.status.idle": "2023-04-30T03:28:53.762947Z",
     "shell.execute_reply": "2023-04-30T03:28:53.761665Z"
    },
    "papermill": {
     "duration": 0.024045,
     "end_time": "2023-04-30T03:28:53.765694",
     "exception": false,
     "start_time": "2023-04-30T03:28:53.741649",
     "status": "completed"
    },
    "tags": []
   },
   "outputs": [
    {
     "data": {
      "application/javascript": [
       "parent.postMessage({\"jupyterEvent\": \"custom.exercise_interaction\", \"data\": {\"outcomeType\": 1, \"valueTowardsCompletion\": 0.3333333333333333, \"interactionType\": 1, \"questionType\": 1, \"questionId\": \"2_ReviewData\", \"learnToolsVersion\": \"0.3.4\", \"failureMessage\": \"\", \"exceptionClass\": \"\", \"trace\": \"\"}}, \"*\")"
      ],
      "text/plain": [
       "<IPython.core.display.Javascript object>"
      ]
     },
     "metadata": {},
     "output_type": "display_data"
    },
    {
     "data": {
      "text/markdown": [
       "<span style=\"color:#33cc33\">Correct</span>"
      ],
      "text/plain": [
       "Correct"
      ]
     },
     "metadata": {},
     "output_type": "display_data"
    }
   ],
   "source": [
    "# Fill in the line below: Which candy was more popular with survey respondents:\n",
    "# '3 Musketeers' or 'Almond Joy'?  (Please enclose your answer in single quotes.)\n",
    "more_popular = '3 Musketeers'\n",
    "\n",
    "# Fill in the line below: Which candy has higher sugar content: 'Air Heads'\n",
    "# or 'Baby Ruth'? (Please enclose your answer in single quotes.)\n",
    "more_sugar = 'Air Heads'\n",
    "\n",
    "# Check your answers\n",
    "step_2.check()"
   ]
  },
  {
   "cell_type": "code",
   "execution_count": 7,
   "id": "3c17055d",
   "metadata": {
    "execution": {
     "iopub.execute_input": "2023-04-30T03:28:53.789606Z",
     "iopub.status.busy": "2023-04-30T03:28:53.789097Z",
     "iopub.status.idle": "2023-04-30T03:28:53.794240Z",
     "shell.execute_reply": "2023-04-30T03:28:53.792875Z"
    },
    "papermill": {
     "duration": 0.020583,
     "end_time": "2023-04-30T03:28:53.797250",
     "exception": false,
     "start_time": "2023-04-30T03:28:53.776667",
     "status": "completed"
    },
    "tags": []
   },
   "outputs": [],
   "source": [
    "# Lines below will give you a hint or solution code\n",
    "#step_2.hint()\n",
    "#step_2.solution()"
   ]
  },
  {
   "cell_type": "markdown",
   "id": "280f92ef",
   "metadata": {
    "papermill": {
     "duration": 0.009728,
     "end_time": "2023-04-30T03:28:53.817337",
     "exception": false,
     "start_time": "2023-04-30T03:28:53.807609",
     "status": "completed"
    },
    "tags": []
   },
   "source": [
    "## Step 3: The role of sugar\n",
    "\n",
    "Do people tend to prefer candies with higher sugar content?  \n",
    "\n",
    "#### Part A\n",
    "\n",
    "Create a scatter plot that shows the relationship between `'sugarpercent'` (on the horizontal x-axis) and `'winpercent'` (on the vertical y-axis).  _Don't add a regression line just yet -- you'll do that in the next step!_"
   ]
  },
  {
   "cell_type": "code",
   "execution_count": 8,
   "id": "edfb8ccc",
   "metadata": {
    "execution": {
     "iopub.execute_input": "2023-04-30T03:28:53.840529Z",
     "iopub.status.busy": "2023-04-30T03:28:53.840028Z",
     "iopub.status.idle": "2023-04-30T03:28:54.150296Z",
     "shell.execute_reply": "2023-04-30T03:28:54.149263Z"
    },
    "papermill": {
     "duration": 0.325598,
     "end_time": "2023-04-30T03:28:54.153498",
     "exception": false,
     "start_time": "2023-04-30T03:28:53.827900",
     "status": "completed"
    },
    "tags": []
   },
   "outputs": [
    {
     "data": {
      "application/javascript": [
       "parent.postMessage({\"jupyterEvent\": \"custom.exercise_interaction\", \"data\": {\"outcomeType\": 1, \"valueTowardsCompletion\": 0.3333333333333333, \"interactionType\": 1, \"questionType\": 2, \"questionId\": \"3.1_PlotBlueScatter\", \"learnToolsVersion\": \"0.3.4\", \"failureMessage\": \"\", \"exceptionClass\": \"\", \"trace\": \"\"}}, \"*\")"
      ],
      "text/plain": [
       "<IPython.core.display.Javascript object>"
      ]
     },
     "metadata": {},
     "output_type": "display_data"
    },
    {
     "data": {
      "text/markdown": [
       "<span style=\"color:#33cc33\">Correct</span>"
      ],
      "text/plain": [
       "Correct"
      ]
     },
     "metadata": {},
     "output_type": "display_data"
    },
    {
     "data": {
      "image/png": "[encoded data removed]",
      "text/plain": [
       "<Figure size 640x480 with 1 Axes>"
      ]
     },
     "metadata": {},
     "output_type": "display_data"
    }
   ],
   "source": [
    "# Scatter plot showing the relationship between 'sugarpercent' and 'winpercent'\n",
    "sns.scatterplot(x=candy_data['sugarpercent'], y=candy_data['winpercent'])\n",
    "\n",
    "# Check your answer\n",
    "step_3.a.check()"
   ]
  },
  {
   "cell_type": "code",
   "execution_count": 9,
   "id": "90ad5680",
   "metadata": {
    "execution": {
     "iopub.execute_input": "2023-04-30T03:28:54.178230Z",
     "iopub.status.busy": "2023-04-30T03:28:54.177723Z",
     "iopub.status.idle": "2023-04-30T03:28:54.183781Z",
     "shell.execute_reply": "2023-04-30T03:28:54.182218Z"
    },
    "papermill": {
     "duration": 0.021531,
     "end_time": "2023-04-30T03:28:54.186654",
     "exception": false,
     "start_time": "2023-04-30T03:28:54.165123",
     "status": "completed"
    },
    "tags": []
   },
   "outputs": [],
   "source": [
    "# Lines below will give you a hint or solution code\n",
    "#step_3.a.hint()\n",
    "#step_3.a.solution_plot()"
   ]
  },
  {
   "cell_type": "markdown",
   "id": "2a49aa95",
   "metadata": {
    "papermill": {
     "duration": 0.010347,
     "end_time": "2023-04-30T03:28:54.208446",
     "exception": false,
     "start_time": "2023-04-30T03:28:54.198099",
     "status": "completed"
    },
    "tags": []
   },
   "source": [
    "#### Part B\n",
    "\n",
    "Does the scatter plot show a **strong** correlation between the two variables?  If so, are candies with more sugar relatively more or less popular with the survey respondents?"
   ]
  },
  {
   "cell_type": "code",
   "execution_count": 10,
   "id": "ea2878cb",
   "metadata": {
    "execution": {
     "iopub.execute_input": "2023-04-30T03:28:54.232099Z",
     "iopub.status.busy": "2023-04-30T03:28:54.231664Z",
     "iopub.status.idle": "2023-04-30T03:28:54.236511Z",
     "shell.execute_reply": "2023-04-30T03:28:54.235233Z"
    },
    "papermill": {
     "duration": 0.019901,
     "end_time": "2023-04-30T03:28:54.239120",
     "exception": false,
     "start_time": "2023-04-30T03:28:54.219219",
     "status": "completed"
    },
    "tags": []
   },
   "outputs": [],
   "source": [
    "#step_3.b.hint()"
   ]
  },
  {
   "cell_type": "code",
   "execution_count": 11,
   "id": "d3d86f45",
   "metadata": {
    "execution": {
     "iopub.execute_input": "2023-04-30T03:28:54.265628Z",
     "iopub.status.busy": "2023-04-30T03:28:54.265172Z",
     "iopub.status.idle": "2023-04-30T03:28:54.275521Z",
     "shell.execute_reply": "2023-04-30T03:28:54.274243Z"
    },
    "papermill": {
     "duration": 0.028051,
     "end_time": "2023-04-30T03:28:54.278283",
     "exception": false,
     "start_time": "2023-04-30T03:28:54.250232",
     "status": "completed"
    },
    "tags": []
   },
   "outputs": [
    {
     "data": {
      "application/javascript": [
       "parent.postMessage({\"jupyterEvent\": \"custom.exercise_interaction\", \"data\": {\"interactionType\": 3, \"questionType\": 4, \"questionId\": \"3.2_ThinkBlueScatter\", \"learnToolsVersion\": \"0.3.4\", \"valueTowardsCompletion\": 0.0, \"failureMessage\": \"\", \"exceptionClass\": \"\", \"trace\": \"\", \"outcomeType\": 4}}, \"*\")"
      ],
      "text/plain": [
       "<IPython.core.display.Javascript object>"
      ]
     },
     "metadata": {},
     "output_type": "display_data"
    },
    {
     "data": {
      "text/markdown": [
       "<span style=\"color:#33cc99\">Solution:</span> The scatter plot does not show a strong correlation between the two variables. Since there is no clear relationship between the two variables, this tells us that sugar content does not play a strong role in candy popularity."
      ],
      "text/plain": [
       "Solution: The scatter plot does not show a strong correlation between the two variables. Since there is no clear relationship between the two variables, this tells us that sugar content does not play a strong role in candy popularity."
      ]
     },
     "metadata": {},
     "output_type": "display_data"
    }
   ],
   "source": [
    "# Check your answer (Run this code cell to receive credit!)\n",
    "step_3.b.solution()"
   ]
  },
  {
   "cell_type": "markdown",
   "id": "8089d79a",
   "metadata": {
    "papermill": {
     "duration": 0.011279,
     "end_time": "2023-04-30T03:28:54.301026",
     "exception": false,
     "start_time": "2023-04-30T03:28:54.289747",
     "status": "completed"
    },
    "tags": []
   },
   "source": [
    "## Step 4: Take a closer look\n",
    "\n",
    "#### Part A\n",
    "\n",
    "Create the same scatter plot you created in **Step 3**, but now with a regression line!"
   ]
  },
  {
   "cell_type": "code",
   "execution_count": 12,
   "id": "b9dafb3b",
   "metadata": {
    "execution": {
     "iopub.execute_input": "2023-04-30T03:28:54.327163Z",
     "iopub.status.busy": "2023-04-30T03:28:54.326619Z",
     "iopub.status.idle": "2023-04-30T03:28:54.698673Z",
     "shell.execute_reply": "2023-04-30T03:28:54.696957Z"
    },
    "papermill": {
     "duration": 0.389036,
     "end_time": "2023-04-30T03:28:54.701882",
     "exception": false,
     "start_time": "2023-04-30T03:28:54.312846",
     "status": "completed"
    },
    "tags": []
   },
   "outputs": [
    {
     "data": {
      "application/javascript": [
       "parent.postMessage({\"jupyterEvent\": \"custom.exercise_interaction\", \"data\": {\"outcomeType\": 1, \"valueTowardsCompletion\": 0.3333333333333333, \"interactionType\": 1, \"questionType\": 2, \"questionId\": \"4.1_PlotBlueReg\", \"learnToolsVersion\": \"0.3.4\", \"failureMessage\": \"\", \"exceptionClass\": \"\", \"trace\": \"\"}}, \"*\")"
      ],
      "text/plain": [
       "<IPython.core.display.Javascript object>"
      ]
     },
     "metadata": {},
     "output_type": "display_data"
    },
    {
     "data": {
      "text/markdown": [
       "<span style=\"color:#33cc33\">Correct</span>"
      ],
      "text/plain": [
       "Correct"
      ]
     },
     "metadata": {},
     "output_type": "display_data"
    },
    {
     "data": {
      "image/png": "[encoded data removed]",
      "text/plain": [
       "<Figure size 640x480 with 1 Axes>"
      ]
     },
     "metadata": {},
     "output_type": "display_data"
    }
   ],
   "source": [
    "# Scatter plot w/ regression line showing the relationship between 'sugarpercent' and 'winpercent'\n",
    "sns.regplot(x=candy_data['sugarpercent'], y=candy_data['winpercent'])\n",
    "\n",
    "# Check your answer\n",
    "step_4.a.check()"
   ]
  },
  {
   "cell_type": "code",
   "execution_count": 13,
   "id": "d0b08190",
   "metadata": {
    "execution": {
     "iopub.execute_input": "2023-04-30T03:28:54.728814Z",
     "iopub.status.busy": "2023-04-30T03:28:54.728356Z",
     "iopub.status.idle": "2023-04-30T03:28:54.734035Z",
     "shell.execute_reply": "2023-04-30T03:28:54.732388Z"
    },
    "papermill": {
     "duration": 0.022882,
     "end_time": "2023-04-30T03:28:54.737006",
     "exception": false,
     "start_time": "2023-04-30T03:28:54.714124",
     "status": "completed"
    },
    "tags": []
   },
   "outputs": [],
   "source": [
    "# Lines below will give you a hint or solution code\n",
    "#step_4.a.hint()\n",
    "#step_4.a.solution_plot()"
   ]
  },
  {
   "cell_type": "markdown",
   "id": "6f828920",
   "metadata": {
    "papermill": {
     "duration": 0.011504,
     "end_time": "2023-04-30T03:28:54.761421",
     "exception": false,
     "start_time": "2023-04-30T03:28:54.749917",
     "status": "completed"
    },
    "tags": []
   },
   "source": [
    "#### Part B\n",
    "\n",
    "According to the plot above, is there a **slight** correlation between `'winpercent'` and `'sugarpercent'`?  What does this tell you about the candy that people tend to prefer?"
   ]
  },
  {
   "cell_type": "code",
   "execution_count": 14,
   "id": "cc6fdc9f",
   "metadata": {
    "execution": {
     "iopub.execute_input": "2023-04-30T03:28:54.787797Z",
     "iopub.status.busy": "2023-04-30T03:28:54.787318Z",
     "iopub.status.idle": "2023-04-30T03:28:54.792031Z",
     "shell.execute_reply": "2023-04-30T03:28:54.790846Z"
    },
    "papermill": {
     "duration": 0.021478,
     "end_time": "2023-04-30T03:28:54.794797",
     "exception": false,
     "start_time": "2023-04-30T03:28:54.773319",
     "status": "completed"
    },
    "tags": []
   },
   "outputs": [],
   "source": [
    "#step_4.b.hint()"
   ]
  },
  {
   "cell_type": "code",
   "execution_count": 15,
   "id": "c2bed3b9",
   "metadata": {
    "execution": {
     "iopub.execute_input": "2023-04-30T03:28:54.821000Z",
     "iopub.status.busy": "2023-04-30T03:28:54.820534Z",
     "iopub.status.idle": "2023-04-30T03:28:54.830269Z",
     "shell.execute_reply": "2023-04-30T03:28:54.829066Z"
    },
    "papermill": {
     "duration": 0.026362,
     "end_time": "2023-04-30T03:28:54.833233",
     "exception": false,
     "start_time": "2023-04-30T03:28:54.806871",
     "status": "completed"
    },
    "tags": []
   },
   "outputs": [
    {
     "data": {
      "application/javascript": [
       "parent.postMessage({\"jupyterEvent\": \"custom.exercise_interaction\", \"data\": {\"interactionType\": 3, \"questionType\": 4, \"questionId\": \"4.2_ThinkBlueReg\", \"learnToolsVersion\": \"0.3.4\", \"valueTowardsCompletion\": 0.0, \"failureMessage\": \"\", \"exceptionClass\": \"\", \"trace\": \"\", \"outcomeType\": 4}}, \"*\")"
      ],
      "text/plain": [
       "<IPython.core.display.Javascript object>"
      ]
     },
     "metadata": {},
     "output_type": "display_data"
    },
    {
     "data": {
      "text/markdown": [
       "<span style=\"color:#33cc99\">Solution:</span> Since the regression line has a slightly positive slope, this tells us that there is a slightly positive correlation between `'winpercent'` and `'sugarpercent'`. Thus, people have a slight preference for candies containing relatively more sugar."
      ],
      "text/plain": [
       "Solution: Since the regression line has a slightly positive slope, this tells us that there is a slightly positive correlation between `'winpercent'` and `'sugarpercent'`. Thus, people have a slight preference for candies containing relatively more sugar."
      ]
     },
     "metadata": {},
     "output_type": "display_data"
    }
   ],
   "source": [
    "# Check your answer (Run this code cell to receive credit!)\n",
    "step_4.b.solution()"
   ]
  },
  {
   "cell_type": "markdown",
   "id": "a99cdda0",
   "metadata": {
    "papermill": {
     "duration": 0.011623,
     "end_time": "2023-04-30T03:28:54.856969",
     "exception": false,
     "start_time": "2023-04-30T03:28:54.845346",
     "status": "completed"
    },
    "tags": []
   },
   "source": [
    "## Step 5: Chocolate!\n",
    "\n",
    "In the code cell below, create a scatter plot to show the relationship between `'pricepercent'` (on the horizontal x-axis) and `'winpercent'` (on the vertical y-axis). Use the `'chocolate'` column to color-code the points.  _Don't add any regression lines just yet -- you'll do that in the next step!_"
   ]
  },
  {
   "cell_type": "code",
   "execution_count": 16,
   "id": "ccbcc3e7",
   "metadata": {
    "execution": {
     "iopub.execute_input": "2023-04-30T03:28:54.883582Z",
     "iopub.status.busy": "2023-04-30T03:28:54.882503Z",
     "iopub.status.idle": "2023-04-30T03:28:55.237893Z",
     "shell.execute_reply": "2023-04-30T03:28:55.236378Z"
    },
    "papermill": {
     "duration": 0.372696,
     "end_time": "2023-04-30T03:28:55.241714",
     "exception": false,
     "start_time": "2023-04-30T03:28:54.869018",
     "status": "completed"
    },
    "tags": []
   },
   "outputs": [
    {
     "data": {
      "application/javascript": [
       "parent.postMessage({\"jupyterEvent\": \"custom.exercise_interaction\", \"data\": {\"outcomeType\": 1, \"valueTowardsCompletion\": 0.3333333333333333, \"interactionType\": 1, \"questionType\": 2, \"questionId\": \"5_ColorScatter\", \"learnToolsVersion\": \"0.3.4\", \"failureMessage\": \"\", \"exceptionClass\": \"\", \"trace\": \"\"}}, \"*\")"
      ],
      "text/plain": [
       "<IPython.core.display.Javascript object>"
      ]
     },
     "metadata": {},
     "output_type": "display_data"
    },
    {
     "data": {
      "text/markdown": [
       "<span style=\"color:#33cc33\">Correct</span>"
      ],
      "text/plain": [
       "Correct"
      ]
     },
     "metadata": {},
     "output_type": "display_data"
    },
    {
     "data": {
      "image/png": "[encoded data removed]",
      "text/plain": [
       "<Figure size 640x480 with 1 Axes>"
      ]
     },
     "metadata": {},
     "output_type": "display_data"
    }
   ],
   "source": [
    "# Scatter plot showing the relationship between 'pricepercent', 'winpercent', and 'chocolate'\n",
    "sns.scatterplot(x=candy_data['sugarpercent'], y=candy_data['winpercent'], hue=candy_data['chocolate'])\n",
    "\n",
    "# Check your answer\n",
    "step_5.check()"
   ]
  },
  {
   "cell_type": "code",
   "execution_count": 17,
   "id": "da8ea59e",
   "metadata": {
    "execution": {
     "iopub.execute_input": "2023-04-30T03:28:55.284278Z",
     "iopub.status.busy": "2023-04-30T03:28:55.282614Z",
     "iopub.status.idle": "2023-04-30T03:28:55.289258Z",
     "shell.execute_reply": "2023-04-30T03:28:55.287866Z"
    },
    "papermill": {
     "duration": 0.029408,
     "end_time": "2023-04-30T03:28:55.292379",
     "exception": false,
     "start_time": "2023-04-30T03:28:55.262971",
     "status": "completed"
    },
    "tags": []
   },
   "outputs": [],
   "source": [
    "# Lines below will give you a hint or solution code\n",
    "#step_5.hint()\n",
    "#step_5.solution_plot()"
   ]
  },
  {
   "cell_type": "markdown",
   "id": "71176251",
   "metadata": {
    "papermill": {
     "duration": 0.012885,
     "end_time": "2023-04-30T03:28:55.319191",
     "exception": false,
     "start_time": "2023-04-30T03:28:55.306306",
     "status": "completed"
    },
    "tags": []
   },
   "source": [
    "Can you see any interesting patterns in the scatter plot?  We'll investigate this plot further  by adding regression lines in the next step!\n",
    "\n",
    "## Step 6: Investigate chocolate\n",
    "\n",
    "#### Part A\n",
    "\n",
    "Create the same scatter plot you created in **Step 5**, but now with two regression lines, corresponding to (1) chocolate candies and (2) candies without chocolate."
   ]
  },
  {
   "cell_type": "code",
   "execution_count": 18,
   "id": "4e1d70ed",
   "metadata": {
    "execution": {
     "iopub.execute_input": "2023-04-30T03:28:55.351913Z",
     "iopub.status.busy": "2023-04-30T03:28:55.350867Z",
     "iopub.status.idle": "2023-04-30T03:28:56.065534Z",
     "shell.execute_reply": "2023-04-30T03:28:56.064045Z"
    },
    "papermill": {
     "duration": 0.735862,
     "end_time": "2023-04-30T03:28:56.068540",
     "exception": false,
     "start_time": "2023-04-30T03:28:55.332678",
     "status": "completed"
    },
    "tags": []
   },
   "outputs": [
    {
     "data": {
      "application/javascript": [
       "parent.postMessage({\"jupyterEvent\": \"custom.exercise_interaction\", \"data\": {\"outcomeType\": 1, \"valueTowardsCompletion\": 0.3333333333333333, \"interactionType\": 1, \"questionType\": 2, \"questionId\": \"6.1_PlotColorReg\", \"learnToolsVersion\": \"0.3.4\", \"failureMessage\": \"\", \"exceptionClass\": \"\", \"trace\": \"\"}}, \"*\")"
      ],
      "text/plain": [
       "<IPython.core.display.Javascript object>"
      ]
     },
     "metadata": {},
     "output_type": "display_data"
    },
    {
     "data": {
      "text/markdown": [
       "<span style=\"color:#33cc33\">Correct</span>"
      ],
      "text/plain": [
       "Correct"
      ]
     },
     "metadata": {},
     "output_type": "display_data"
    },
    {
     "data": {
      "image/png": "[encoded data removed]",
      "text/plain": [
       "<Figure size 578.611x500 with 1 Axes>"
      ]
     },
     "metadata": {},
     "output_type": "display_data"
    }
   ],
   "source": [
    "# Color-coded scatter plot w/ regression lines\n",
    "sns.lmplot(x='sugarpercent', y='winpercent', hue='chocolate',data=candy_data)\n",
    "\n",
    "# Check your answer\n",
    "step_6.a.check()"
   ]
  },
  {
   "cell_type": "code",
   "execution_count": 19,
   "id": "cfca0474",
   "metadata": {
    "execution": {
     "iopub.execute_input": "2023-04-30T03:28:56.099320Z",
     "iopub.status.busy": "2023-04-30T03:28:56.098060Z",
     "iopub.status.idle": "2023-04-30T03:28:56.104044Z",
     "shell.execute_reply": "2023-04-30T03:28:56.102636Z"
    },
    "papermill": {
     "duration": 0.024328,
     "end_time": "2023-04-30T03:28:56.107006",
     "exception": false,
     "start_time": "2023-04-30T03:28:56.082678",
     "status": "completed"
    },
    "tags": []
   },
   "outputs": [],
   "source": [
    "# Lines below will give you a hint or solution code\n",
    "#step_6.a.hint()\n",
    "#step_6.a.solution_plot()"
   ]
  },
  {
   "cell_type": "markdown",
   "id": "30316664",
   "metadata": {
    "papermill": {
     "duration": 0.013628,
     "end_time": "2023-04-30T03:28:56.135186",
     "exception": false,
     "start_time": "2023-04-30T03:28:56.121558",
     "status": "completed"
    },
    "tags": []
   },
   "source": [
    "#### Part B\n",
    "\n",
    "Using the regression lines, what conclusions can you draw about the effects of chocolate and price on candy popularity?"
   ]
  },
  {
   "cell_type": "code",
   "execution_count": 20,
   "id": "05e67bfd",
   "metadata": {
    "execution": {
     "iopub.execute_input": "2023-04-30T03:28:56.166572Z",
     "iopub.status.busy": "2023-04-30T03:28:56.166098Z",
     "iopub.status.idle": "2023-04-30T03:28:56.171438Z",
     "shell.execute_reply": "2023-04-30T03:28:56.170072Z"
    },
    "papermill": {
     "duration": 0.024826,
     "end_time": "2023-04-30T03:28:56.174189",
     "exception": false,
     "start_time": "2023-04-30T03:28:56.149363",
     "status": "completed"
    },
    "tags": []
   },
   "outputs": [],
   "source": [
    "#step_6.b.hint()"
   ]
  },
  {
   "cell_type": "code",
   "execution_count": 21,
   "id": "ac6de530",
   "metadata": {
    "execution": {
     "iopub.execute_input": "2023-04-30T03:28:56.205155Z",
     "iopub.status.busy": "2023-04-30T03:28:56.204666Z",
     "iopub.status.idle": "2023-04-30T03:28:56.214402Z",
     "shell.execute_reply": "2023-04-30T03:28:56.213064Z"
    },
    "papermill": {
     "duration": 0.028156,
     "end_time": "2023-04-30T03:28:56.216786",
     "exception": false,
     "start_time": "2023-04-30T03:28:56.188630",
     "status": "completed"
    },
    "tags": []
   },
   "outputs": [
    {
     "data": {
      "application/javascript": [
       "parent.postMessage({\"jupyterEvent\": \"custom.exercise_interaction\", \"data\": {\"interactionType\": 3, \"questionType\": 4, \"questionId\": \"6.2_ThinkColorReg\", \"learnToolsVersion\": \"0.3.4\", \"valueTowardsCompletion\": 0.0, \"failureMessage\": \"\", \"exceptionClass\": \"\", \"trace\": \"\", \"outcomeType\": 4}}, \"*\")"
      ],
      "text/plain": [
       "<IPython.core.display.Javascript object>"
      ]
     },
     "metadata": {},
     "output_type": "display_data"
    },
    {
     "data": {
      "text/markdown": [
       "<span style=\"color:#33cc99\">Solution:</span> We'll begin with the regression line for chocolate candies. Since this line has a slightly positive slope, we can say that more expensive chocolate candies tend to be more popular (than relatively cheaper chocolate candies).  Likewise, since the regression line for candies without chocolate has a negative slope, we can say that if candies don't contain chocolate, they tend to be more popular when they are cheaper.  One important note, however, is that the dataset is quite small -- so we shouldn't invest too much trust in these patterns!  To inspire more confidence in the results, we should add more candies to the dataset."
      ],
      "text/plain": [
       "Solution: We'll begin with the regression line for chocolate candies. Since this line has a slightly positive slope, we can say that more expensive chocolate candies tend to be more popular (than relatively cheaper chocolate candies).  Likewise, since the regression line for candies without chocolate has a negative slope, we can say that if candies don't contain chocolate, they tend to be more popular when they are cheaper.  One important note, however, is that the dataset is quite small -- so we shouldn't invest too much trust in these patterns!  To inspire more confidence in the results, we should add more candies to the dataset."
      ]
     },
     "metadata": {},
     "output_type": "display_data"
    }
   ],
   "source": [
    "# Check your answer (Run this code cell to receive credit!)\n",
    "step_6.b.solution()"
   ]
  },
  {
   "cell_type": "markdown",
   "id": "8e8771cc",
   "metadata": {
    "papermill": {
     "duration": 0.014028,
     "end_time": "2023-04-30T03:28:56.245869",
     "exception": false,
     "start_time": "2023-04-30T03:28:56.231841",
     "status": "completed"
    },
    "tags": []
   },
   "source": [
    "## Step 7: Everybody loves chocolate.\n",
    "\n",
    "#### Part A\n",
    "\n",
    "Create a categorical scatter plot to highlight the relationship between `'chocolate'` and `'winpercent'`.  Put `'chocolate'` on the (horizontal) x-axis, and `'winpercent'` on the (vertical) y-axis."
   ]
  },
  {
   "cell_type": "code",
   "execution_count": 22,
   "id": "44f63e7c",
   "metadata": {
    "execution": {
     "iopub.execute_input": "2023-04-30T03:28:56.276632Z",
     "iopub.status.busy": "2023-04-30T03:28:56.276189Z",
     "iopub.status.idle": "2023-04-30T03:28:56.736925Z",
     "shell.execute_reply": "2023-04-30T03:28:56.734973Z"
    },
    "papermill": {
     "duration": 0.482282,
     "end_time": "2023-04-30T03:28:56.742385",
     "exception": false,
     "start_time": "2023-04-30T03:28:56.260103",
     "status": "completed"
    },
    "tags": []
   },
   "outputs": [
    {
     "data": {
      "application/javascript": [
       "parent.postMessage({\"jupyterEvent\": \"custom.exercise_interaction\", \"data\": {\"outcomeType\": 1, \"valueTowardsCompletion\": 0.3333333333333333, \"interactionType\": 1, \"questionType\": 2, \"questionId\": \"7.1_PlotSwarm\", \"learnToolsVersion\": \"0.3.4\", \"failureMessage\": \"\", \"exceptionClass\": \"\", \"trace\": \"\"}}, \"*\")"
      ],
      "text/plain": [
       "<IPython.core.display.Javascript object>"
      ]
     },
     "metadata": {},
     "output_type": "display_data"
    },
    {
     "data": {
      "text/markdown": [
       "<span style=\"color:#33cc33\">Correct</span>"
      ],
      "text/plain": [
       "Correct"
      ]
     },
     "metadata": {},
     "output_type": "display_data"
    },
    {
     "data": {
      "image/png": "[encoded data removed]",
      "text/plain": [
       "<Figure size 640x480 with 1 Axes>"
      ]
     },
     "metadata": {},
     "output_type": "display_data"
    }
   ],
   "source": [
    "# Scatter plot showing the relationship between 'chocolate' and 'winpercent'\n",
    "sns.swarmplot(x=candy_data['chocolate'], y=candy_data['winpercent'])\n",
    "\n",
    "# Check your answer\n",
    "step_7.a.check()"
   ]
  },
  {
   "cell_type": "code",
   "execution_count": 23,
   "id": "5092adf5",
   "metadata": {
    "execution": {
     "iopub.execute_input": "2023-04-30T03:28:56.795271Z",
     "iopub.status.busy": "2023-04-30T03:28:56.793754Z",
     "iopub.status.idle": "2023-04-30T03:28:56.799333Z",
     "shell.execute_reply": "2023-04-30T03:28:56.798209Z"
    },
    "papermill": {
     "duration": 0.02479,
     "end_time": "2023-04-30T03:28:56.802110",
     "exception": false,
     "start_time": "2023-04-30T03:28:56.777320",
     "status": "completed"
    },
    "tags": []
   },
   "outputs": [],
   "source": [
    "# Lines below will give you a hint or solution code\n",
    "#step_7.a.hint()\n",
    "#step_7.a.solution_plot()"
   ]
  },
  {
   "cell_type": "markdown",
   "id": "92d05bd1",
   "metadata": {
    "papermill": {
     "duration": 0.0144,
     "end_time": "2023-04-30T03:28:56.831353",
     "exception": false,
     "start_time": "2023-04-30T03:28:56.816953",
     "status": "completed"
    },
    "tags": []
   },
   "source": [
    "#### Part B\n",
    "\n",
    "You decide to dedicate a section of your report to the fact that chocolate candies tend to be more popular than candies without chocolate.  Which plot is more appropriate to tell this story: the plot from **Step 6**, or the plot from **Step 7**?"
   ]
  },
  {
   "cell_type": "code",
   "execution_count": 24,
   "id": "23f29e77",
   "metadata": {
    "execution": {
     "iopub.execute_input": "2023-04-30T03:28:56.863697Z",
     "iopub.status.busy": "2023-04-30T03:28:56.862543Z",
     "iopub.status.idle": "2023-04-30T03:28:56.867923Z",
     "shell.execute_reply": "2023-04-30T03:28:56.866673Z"
    },
    "papermill": {
     "duration": 0.02454,
     "end_time": "2023-04-30T03:28:56.870629",
     "exception": false,
     "start_time": "2023-04-30T03:28:56.846089",
     "status": "completed"
    },
    "tags": []
   },
   "outputs": [],
   "source": [
    "#step_7.b.hint()"
   ]
  },
  {
   "cell_type": "code",
   "execution_count": 25,
   "id": "7194e9d9",
   "metadata": {
    "execution": {
     "iopub.execute_input": "2023-04-30T03:28:56.902489Z",
     "iopub.status.busy": "2023-04-30T03:28:56.901983Z",
     "iopub.status.idle": "2023-04-30T03:28:56.911373Z",
     "shell.execute_reply": "2023-04-30T03:28:56.910085Z"
    },
    "papermill": {
     "duration": 0.028253,
     "end_time": "2023-04-30T03:28:56.913794",
     "exception": false,
     "start_time": "2023-04-30T03:28:56.885541",
     "status": "completed"
    },
    "tags": []
   },
   "outputs": [
    {
     "data": {
      "application/javascript": [
       "parent.postMessage({\"jupyterEvent\": \"custom.exercise_interaction\", \"data\": {\"interactionType\": 3, \"questionType\": 4, \"questionId\": \"7.2_ThinkSwarm\", \"learnToolsVersion\": \"0.3.4\", \"valueTowardsCompletion\": 0.0, \"failureMessage\": \"\", \"exceptionClass\": \"\", \"trace\": \"\", \"outcomeType\": 4}}, \"*\")"
      ],
      "text/plain": [
       "<IPython.core.display.Javascript object>"
      ]
     },
     "metadata": {},
     "output_type": "display_data"
    },
    {
     "data": {
      "text/markdown": [
       "<span style=\"color:#33cc99\">Solution:</span> In this case, the categorical scatter plot from **Step 7** is the more appropriate plot. While both plots tell the desired story, the plot from **Step 6** conveys far more information that could distract from the main point."
      ],
      "text/plain": [
       "Solution: In this case, the categorical scatter plot from **Step 7** is the more appropriate plot. While both plots tell the desired story, the plot from **Step 6** conveys far more information that could distract from the main point."
      ]
     },
     "metadata": {},
     "output_type": "display_data"
    }
   ],
   "source": [
    "# Check your answer (Run this code cell to receive credit!)\n",
    "step_7.b.solution()"
   ]
  },
  {
   "cell_type": "markdown",
   "id": "5d299446",
   "metadata": {
    "papermill": {
     "duration": 0.017807,
     "end_time": "2023-04-30T03:28:56.946903",
     "exception": false,
     "start_time": "2023-04-30T03:28:56.929096",
     "status": "completed"
    },
    "tags": []
   },
   "source": [
    "## Keep going\n",
    "\n",
    "Explore **[histograms and density plots](https://www.kaggle.com/alexisbcook/distributions)**."
   ]
  },
  {
   "cell_type": "markdown",
   "id": "e95d4556",
   "metadata": {
    "papermill": {
     "duration": 0.014548,
     "end_time": "2023-04-30T03:28:56.977183",
     "exception": false,
     "start_time": "2023-04-30T03:28:56.962635",
     "status": "completed"
    },
    "tags": []
   },
   "source": [
    "---\n",
    "\n",
    "\n",
    "\n",
    "\n",
    "*Have questions or comments? Visit the [course discussion forum](https://www.kaggle.com/learn/data-visualization/discussion) to chat with other learners.*"
   ]
  }
 ],
 "metadata": {
  "kernelspec": {
   "display_name": "Python 3",
   "language": "python",
   "name": "python3"
  },
  "language_info": {
   "codemirror_mode": {
    "name": "ipython",
    "version": 3
   },
   "file_extension": ".py",
   "mimetype": "text/x-python",
   "name": "python",
   "nbconvert_exporter": "python",
   "pygments_lexer": "ipython3",
   "version": "3.7.12"
  },
  "papermill": {
   "default_parameters": {},
   "duration": 17.397543,
   "end_time": "2023-04-30T03:28:57.816988",
   "environment_variables": {},
   "exception": null,
   "input_path": "__notebook__.ipynb",
   "output_path": "__notebook__.ipynb",
   "parameters": {},
   "start_time": "2023-04-30T03:28:40.419445",
   "version": "2.4.0"
  }
 },
 "nbformat": 4,
 "nbformat_minor": 5
}
